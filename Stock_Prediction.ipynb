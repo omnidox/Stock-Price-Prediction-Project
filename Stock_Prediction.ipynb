{
 "cells": [
  {
   "cell_type": "markdown",
   "metadata": {},
   "source": [
    "# Stock Price Prediction Project\n",
    "\n",
    "## 1. Project Concept and Scope\n",
    "### Objective\n",
    "To predict future stock prices of specific companies representing different market sectors, using historical data.\n",
    "\n",
    "### Scope\n",
    "The project will focus on PLUG (Energy), NIO (Automotive), NTLA (Healthcare), SNAP (Communication Services), and CHPT (Industrials).\n",
    "\n",
    "In the first part of our project, we will try to analyze the data. and in the second part, we will forecast the stock market."
   ]
  },
  {
   "cell_type": "markdown",
   "metadata": {},
   "source": [
    "# Overview of Selected Stocks\n",
    "\n",
    "This notebook provides an overview of five distinct stocks, each representing different sectors and industries. The stocks covered are:\n",
    "\n",
    "1. **PLUG (Plug Power Inc.)**: \n",
    "   - Sector: Energy\n",
    "   - Industry: Electrical Equipment & Parts\n",
    "   - Description: Plug Power is an innovator in hydrogen and fuel cell technology, providing comprehensive hydrogen fuel cell turnkey solutions.\n",
    "\n",
    "2. **NIO (NIO Inc.)**:\n",
    "   - Sector: Automotive\n",
    "   - Industry: Auto Manufacturers\n",
    "   - Description: NIO is a pioneer in China's premium electric vehicle market, specializing in designing, manufacturing, and selling electric vehicles.\n",
    "\n",
    "3. **NTLA (Intellia Therapeutics Inc.)**:\n",
    "   - Sector: Healthcare\n",
    "   - Industry: Biotechnology\n",
    "   - Description: Intellia Therapeutics is a leading biotechnology company developing therapies using a CRISPR/Cas9 gene-editing system.\n",
    "\n",
    "4. **SNAP (Snap Inc.)**:\n",
    "   - Sector: Communication Services\n",
    "   - Industry: Internet Content & Information\n",
    "   - Description: Snap Inc. is the parent company of Snapchat, a popular social media platform known for its ephemeral messaging and multimedia features.\n",
    "\n",
    "5. **CHPT (ChargePoint Holdings Inc.)**:\n",
    "   - Sector: Industrials\n",
    "   - Industry: Specialty Industrial Machinery\n",
    "   - Description: ChargePoint Holdings is at the forefront of electric vehicle charging infrastructure, offering a comprehensive array of charging solutions.\n",
    "\n",
    "Each of these companies represents a unique investment opportunity within its respective sector, reflecting different aspects of technological and industrial advancement.\n"
   ]
  },
  {
   "cell_type": "markdown",
   "metadata": {},
   "source": [
    "## 2. Data Collection\n",
    "- Utilize Alpha Vantage API for historical stock price data.\n",
    "- Gather comprehensive data including prices, volumes, and market indicators."
   ]
  },
  {
   "cell_type": "code",
   "execution_count": 3,
   "metadata": {},
   "outputs": [],
   "source": [
    "\"\"\"\n",
    "This script imports necessary libraries for stock price prediction.\n",
    "\"\"\"\n",
    "import os\n",
    "import pandas as pd\n",
    "from alpha_vantage.timeseries import TimeSeries\n",
    "import numpy as np \n",
    "import matplotlib.pyplot as plt\n",
    "import seaborn as sns\n",
    "import plotly.express as px"
   ]
  },
  {
   "cell_type": "code",
   "execution_count": 2,
   "metadata": {},
   "outputs": [],
   "source": [
    "\n",
    "\n",
    "def retrieve_stock_data():\n",
    "    \"\"\"\n",
    "    Retrieve historical stock data for a list of symbols using Alpha Vantage API.\n",
    "    \n",
    "    Returns:\n",
    "    None\n",
    "    \"\"\"\n",
    "    # Read the API key from the file\n",
    "    with open('AlphaVantage.txt', 'r') as file:\n",
    "        api_key = file.read().strip()\n",
    "\n",
    "    # Define the symbols of the stocks\n",
    "    symbols = ['PLUG', 'NIO', 'NTLA', 'SNAP', 'CHPT']\n",
    "\n",
    "    # Create a TimeSeries object with your API key\n",
    "    ts = TimeSeries(key=api_key, output_format='pandas')\n",
    "\n",
    "    # Loop through the symbols and retrieve the historical data\n",
    "    for symbol in symbols:\n",
    "        # Get the historical data for the symbol\n",
    "        data, meta_data = ts.get_daily(symbol=symbol, outputsize='full')\n",
    "\n",
    "        # Get the first and last dates\n",
    "        first_date = data.index[0].strftime('%Y-%m-%d')\n",
    "        last_date = data.index[-1].strftime('%Y-%m-%d')\n",
    "\n",
    "        # Check if the data already exists\n",
    "        file_name = f'{first_date}_{last_date}_{symbol}_historical_data.csv'\n",
    "        try:\n",
    "            existing_data = pd.read_csv(file_name)\n",
    "            existing_first_date = existing_data.iloc[0]['date']\n",
    "            existing_last_date = existing_data.iloc[-1]['date']\n",
    "            if existing_first_date == first_date and existing_last_date == last_date:\n",
    "                print(\"Data already exists\")\n",
    "                continue\n",
    "        except FileNotFoundError:\n",
    "            pass\n",
    "\n",
    "        # Save the data to a CSV file with the modified file name\n",
    "        data.to_csv(file_name)\n",
    "        print(\"The most recent stock data retrieved\")\n"
   ]
  }
 ],
 "metadata": {
  "kernelspec": {
   "display_name": "Python 3",
   "language": "python",
   "name": "python3"
  },
  "language_info": {
   "codemirror_mode": {
    "name": "ipython",
    "version": 3
   },
   "file_extension": ".py",
   "mimetype": "text/x-python",
   "name": "python",
   "nbconvert_exporter": "python",
   "pygments_lexer": "ipython3",
   "version": "3.11.7"
  }
 },
 "nbformat": 4,
 "nbformat_minor": 2
}
