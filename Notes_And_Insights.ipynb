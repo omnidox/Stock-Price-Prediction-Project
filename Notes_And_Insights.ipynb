{
 "cells": [
  {
   "cell_type": "code",
   "execution_count": null,
   "metadata": {},
   "outputs": [],
   "source": []
  },
  {
   "cell_type": "markdown",
   "metadata": {},
   "source": [
    "The difference between the two implementations lies in the type of window they use to calculate the mean:\n",
    "\n",
    "1. `stock_data['PLUG']['2019':'2024']['2. high'].rolling(window=20).mean()`: This line is using a rolling window to calculate the mean. A rolling window of size `n` means that for each point, it takes into account the `n` most recent points (including the current one). In this case, it's calculating a 20-day rolling mean of the '2. high' stock prices for 'PLUG' from 2019 to 2024.\n",
    "\n",
    "2. `microsoft.High.expanding().mean()`: This line is using an expanding window to calculate the mean. An expanding window starts at the first point and includes all subsequent points. So for each point, it calculates the mean of all prior data. In this case, it's calculating the expanding mean of the 'High' stock prices for Microsoft.\n",
    "\n",
    "In summary, a rolling mean is a moving average where the window size stays constant and moves along with the data, while an expanding mean includes more and more data points as it moves along the data."
   ]
  },
  {
   "cell_type": "markdown",
   "metadata": {},
   "source": [
    "Both rolling and expanding windows have their strengths and weaknesses, and the choice between them depends on the specific use case.\n",
    "\n",
    "**Rolling Window:**\n",
    "\n",
    "Strengths:\n",
    "- It provides a \"localized\" view of the data, which can be useful for identifying short-term trends or patterns.\n",
    "- It can smooth out short-term fluctuations, which can make it easier to see the underlying trend.\n",
    "- It's more sensitive to recent changes because it only considers the most recent `n` data points.\n",
    "\n",
    "Weaknesses:\n",
    "- The choice of window size can significantly affect the results. A larger window will smooth out more fluctuations, but it might also smooth out important details.\n",
    "- It doesn't consider all past data, so it might miss long-term trends.\n",
    "\n",
    "**Expanding Window:**\n",
    "\n",
    "Strengths:\n",
    "- It considers all past data, so it can capture long-term trends.\n",
    "- The mean from an expanding window can provide a \"cumulative\" view of the data, which can be useful for understanding the overall trend over time.\n",
    "\n",
    "Weaknesses:\n",
    "- It's less sensitive to recent changes because it considers all past data.\n",
    "- It can be heavily influenced by extreme values in the early data, as these values are included in the mean calculation for all subsequent points.\n",
    "\n",
    "In the context of stock price prediction, a rolling window might be more useful if you're interested in short-term trends or if the market conditions are changing rapidly. An expanding window might be more useful if you're interested in the long-term trend or if the market conditions are relatively stable."
   ]
  }
 ],
 "metadata": {
  "language_info": {
   "name": "python"
  }
 },
 "nbformat": 4,
 "nbformat_minor": 2
}
